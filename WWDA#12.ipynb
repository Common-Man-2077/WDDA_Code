{
 "cells": [
  {
   "cell_type": "code",
   "execution_count": 1,
   "metadata": {},
   "outputs": [],
   "source": [
    "# Import relevant packages\n",
    "import os\n",
    "import pandas as pd\n",
    "import matplotlib.pyplot as plt\n",
    "import datetime \n",
    "from os import listdir\n",
    "from os.path import isfile, join\n",
    "\n",
    "# Create empty list to contain all information from daily stock trading details\n",
    "daily_info_list = []"
   ]
  },
  {
   "cell_type": "code",
   "execution_count": 2,
   "metadata": {},
   "outputs": [],
   "source": [
    "# Define a function to check the number of stocks which closed value is higher than open value for each day\n",
    "def calculate_number_of_stock_closed_higher (csv_file):\n",
    "    df = pd.read_csv(csv_file, header=None,delimiter=',')\n",
    "    total_number_stock = len(df.index)\n",
    "    #  k is the counter for the number of stocks which close price is higher to open price\n",
    "    k = 0\n",
    "    #  Compare all rows in the csv files, if the value on the fifth column (closed value) is higher than second column(open value), then count it\n",
    "    for i in range(len(df)):\n",
    "        if df.loc[i, 5] > df.loc[i, 2]:\n",
    "            k = k +1\n",
    "    return k,total_number_stock"
   ]
  },
  {
   "cell_type": "code",
   "execution_count": 3,
   "metadata": {},
   "outputs": [],
   "source": [
    "day_name= ['Monday', 'Tuesday', 'Wednesday', 'Thursday', 'Friday', 'Saturday','Sunday']\n",
    "# Define a function to find and analyze all csv files in the current directory\n",
    "def add_daily_info_into_list():\n",
    "    currentDirectory = os.getcwd()\n",
    "    onlyfiles = [f for f in listdir(currentDirectory) if isfile(join(currentDirectory, f))]\n",
    "    #  The line below has been set for function testing, uncomment it if you need to test the function     \n",
    "    #  i= 0    \n",
    "    #  For csv files in current directory,use its file name as date, find out the day of the week based on date\n",
    "    for file in onlyfiles:\n",
    "        day = datetime.datetime.strptime(file[0:8], '%Y%m%d').weekday()\n",
    "    #  Record its date, in Year     \n",
    "        daily_info_list.append([file[0:4],file[4:6],file[6:8],day_name[day],calculate_number_of_stock_closed_higher(file)[0],calculate_number_of_stock_closed_higher(file)[1]])\n",
    "        #  The line below has been set for function testing, uncomment it if you need to test the function     \n",
    "        #  i = i +1\n",
    "        #   if i >100:\n",
    "        #   break\n",
    "\n",
    "        "
   ]
  },
  {
   "cell_type": "code",
   "execution_count": 4,
   "metadata": {},
   "outputs": [],
   "source": [
    "def change_to_subfolder(folder_name):\n",
    "    try:\n",
    "        os.chdir('.//'+folder_name)\n",
    "    except FileNotFoundError:\n",
    "        currentDirectory = os.getcwd()\n",
    "        print(currentDirectory)\n",
    "        print(\"Folder Name '\"+ folder_name +\"'cannot be found please make sure you allocate this code file in the parent folder\")\n",
    "\n",
    "change_to_subfolder('1997-2006')\n",
    "add_daily_info_into_list()  \n",
    "os.chdir('..')\n",
    "\n",
    "change_to_subfolder('2007-2012')\n",
    "add_daily_info_into_list()  \n",
    "os.chdir('..')\n",
    "\n",
    "change_to_subfolder('2013-2016')\n",
    "add_daily_info_into_list()  \n",
    "os.chdir('..')\n",
    "\n",
    "change_to_subfolder('2017jan-june')\n",
    "add_daily_info_into_list()  \n",
    "os.chdir('..')\n",
    "\n",
    "change_to_subfolder('2017july-december')\n",
    "add_daily_info_into_list()  \n",
    "os.chdir('..')\n",
    "\n",
    "change_to_subfolder('2018jan-june')\n",
    "add_daily_info_into_list()  \n",
    "os.chdir('..')\n",
    "\n",
    "change_to_subfolder('2018july-dec')\n",
    "add_daily_info_into_list()  \n",
    "os.chdir('..')\n",
    "\n",
    "change_to_subfolder('2019jan-june')\n",
    "add_daily_info_into_list()  \n",
    "os.chdir('..')\n",
    "\n",
    "change_to_subfolder('2019july-dec')\n",
    "add_daily_info_into_list()  \n",
    "os.chdir('..')"
   ]
  },
  {
   "cell_type": "code",
   "execution_count": 5,
   "metadata": {},
   "outputs": [],
   "source": [
    "# Update Column Index Name \n",
    "daily_info_df = pd.DataFrame(daily_info_list,columns = ['Year','Month','Date','Day','Number of Stocks Higher','Numbers of Other Stocks'])"
   ]
  },
  {
   "cell_type": "code",
   "execution_count": 6,
   "metadata": {},
   "outputs": [],
   "source": [
    "# Group it by Days\n",
    "daily_info_grouped_up = daily_info_df.groupby(\"Day\")[\"Number of Stocks Higher\"].sum().reindex(day_name)\n",
    "daily_info_grouped_total = daily_info_df.groupby(\"Day\")[\"Numbers of Other Stocks\"].sum().reindex(day_name)\n",
    "\n",
    "df = daily_info_grouped_up.div(daily_info_grouped_total)\n",
    "df_cleaned = df.dropna()"
   ]
  },
  {
   "cell_type": "code",
   "execution_count": 7,
   "metadata": {},
   "outputs": [
    {
     "data": {
      "image/png": "[encoded data removed]",
      "text/plain": [
       "<Figure size 432x288 with 1 Axes>"
      ]
     },
     "metadata": {
      "needs_background": "light"
     },
     "output_type": "display_data"
    }
   ],
   "source": [
    "fig = plt.figure()\n",
    "ax = plt.subplot(111)\n",
    "df_cleaned.plot(kind=\"bar\", ax=ax,title= \"Data from 1997 - 2019\")\n",
    "plt.suptitle(\"Percentages of the Stock in ASX Closed Higher for Each Day\", y=1.05, fontsize=18)\n",
    "ax.set_ylim(0.25,0.35)\n",
    "for p in ax.patches:\n",
    "    ax.annotate(str(round(p.get_height(),2)), (p.get_x() * 1.03, p.get_height() * 1.005))"
   ]
  },
  {
   "cell_type": "code",
   "execution_count": 8,
   "metadata": {},
   "outputs": [
    {
     "name": "stdout",
     "output_type": "stream",
     "text": [
      "5811\n"
     ]
    }
   ],
   "source": [
    "# Print total number of days to verify if all data has been included in the data set. The final number should be close to \n",
    "# Total number of years x Total number of trading days per Year (approx. 254 days per year)\n",
    "# 23 x 254 = 5842 days\n",
    "print(len(daily_info_df))"
   ]
  }
 ],
 "metadata": {
  "kernelspec": {
   "display_name": "Python 3",
   "language": "python",
   "name": "python3"
  },
  "language_info": {
   "codemirror_mode": {
    "name": "ipython",
    "version": 3
   },
   "file_extension": ".py",
   "mimetype": "text/x-python",
   "name": "python",
   "nbconvert_exporter": "python",
   "pygments_lexer": "ipython3",
   "version": "3.7.6"
  }
 },
 "nbformat": 4,
 "nbformat_minor": 4
}
